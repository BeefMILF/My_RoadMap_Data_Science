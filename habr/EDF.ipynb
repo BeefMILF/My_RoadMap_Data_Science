{
 "cells": [
  {
   "cell_type": "code",
   "execution_count": 1,
   "metadata": {},
   "outputs": [],
   "source": [
    "# Загружаем библиотеки \n",
    "import numpy as np\n",
    "import pandas as pd\n",
    "import matplotlib.pyplot as plt\n",
    "import seaborn as sns\n",
    "import gc"
   ]
  },
  {
   "cell_type": "code",
   "execution_count": 2,
   "metadata": {},
   "outputs": [],
   "source": [
    "# список файлы данных с https://github.com/devua/csv/tree/master/salaries\n",
    "files = {\n",
    "'11_1':'https://raw.githubusercontent.com/devua/csv/master/salaries/2011_dec_final.csv',\n",
    "'11_2':'https://raw.githubusercontent.com/devua/csv/master/salaries/2011_may_final.csv',\n",
    "'12_1':'https://raw.githubusercontent.com/devua/csv/master/salaries/2012_dec_final.csv',\n",
    "'12_2':'https://raw.githubusercontent.com/devua/csv/master/salaries/2012_may_final.csv',\n",
    "'13_1':'https://raw.githubusercontent.com/devua/csv/master/salaries/2013_dec_final.csv',\n",
    "'13_2':'https://raw.githubusercontent.com/devua/csv/master/salaries/2013_may_final.csv',\n",
    "'14_1':'https://raw.githubusercontent.com/devua/csv/master/salaries/2014_dec_final.csv',\n",
    "'14_2':'https://raw.githubusercontent.com/devua/csv/master/salaries/2014_may_final.csv',\n",
    "'15_1':'https://raw.githubusercontent.com/devua/csv/master/salaries/2015_dec_final.csv',\n",
    "'15_2':'https://raw.githubusercontent.com/devua/csv/master/salaries/2015_may_final.csv',\n",
    "'16_1':'https://raw.githubusercontent.com/devua/csv/master/salaries/2016_dec_final.csv',\n",
    "'16_2':'https://raw.githubusercontent.com/devua/csv/master/salaries/2016_may_final.csv',\n",
    "'17_1':'https://raw.githubusercontent.com/devua/csv/master/salaries/2017_dec_final.csv',\n",
    "'17_2':'https://raw.githubusercontent.com/devua/csv/master/salaries/2017_jun_final.csv',\n",
    "'18_1':'https://raw.githubusercontent.com/devua/csv/master/salaries/2018_dec_final.csv',\n",
    "'18_2':'https://raw.githubusercontent.com/devua/csv/master/salaries/2018_june_final.csv',\n",
    "'19_1':'https://raw.githubusercontent.com/devua/csv/master/salaries/2019_june_final.csv'}"
   ]
  },
  {
   "cell_type": "code",
   "execution_count": 3,
   "metadata": {},
   "outputs": [
    {
     "data": {
      "text/plain": [
       "('https://raw.githubusercontent.com/devua/csv/master/salaries/2014_dec_final.csv',\n",
       " 'https://raw.githubusercontent.com/devua/csv/master/salaries/2019_june_final.csv')"
      ]
     },
     "execution_count": 3,
     "metadata": {},
     "output_type": "execute_result"
    }
   ],
   "source": [
    "# Берем 14 и 19 года\n",
    "files['14_1'], files['19_1']"
   ]
  },
  {
   "cell_type": "code",
   "execution_count": 4,
   "metadata": {},
   "outputs": [
    {
     "data": {
      "text/plain": [
       "0"
      ]
     },
     "execution_count": 4,
     "metadata": {},
     "output_type": "execute_result"
    }
   ],
   "source": [
    "# Данные забираем и сохраняем локально\n",
    "data_14_1_1 = pd.read_csv(files['14_1'])\n",
    "data_14_1_1.to_csv('14_1.csv')\n",
    "\n",
    "data_19_1_1 = pd.read_csv(files['19_1'])\n",
    "data_19_1_1.to_csv('19_1.csv')\n",
    "\n",
    "del data_19_1_1, data_14_1_1\n",
    "\n",
    "gc.collect()"
   ]
  },
  {
   "cell_type": "code",
   "execution_count": 5,
   "metadata": {},
   "outputs": [],
   "source": [
    "# Берем данные за 14 год (загружаем локально)\n",
    "data_14_1 = pd.read_csv('14_1.csv')\n",
    "\n",
    "# Берем данные за 19 год ()\n",
    "data_19_1 = pd.read_csv('19_1.csv')"
   ]
  },
  {
   "cell_type": "code",
   "execution_count": 6,
   "metadata": {},
   "outputs": [
    {
     "data": {
      "text/plain": [
       "0"
      ]
     },
     "execution_count": 6,
     "metadata": {},
     "output_type": "execute_result"
    }
   ],
   "source": [
    "# Берем только необходимые колонки\n",
    "data_14_1 = data_14_1[['Должность', 'Общий.опыт.работы', 'Зарплата.в.месяц']]\n",
    "data_19_1 = data_19_1[['Должность', 'Общий.опыт.работы', 'Зарплата.в.месяц']]\n",
    "# Меняем названия колонок \n",
    "data_14_1.columns = ['Position', 'Experience', 'Salary']\n",
    "data_19_1.columns = ['Position', 'Experience', 'Salary']\n",
    "# Создаем словарь что бы убрать не цифировые категории и обновляем данные созданным словарем\n",
    "data_14_1 = data_14_1.replace({'10 и более лет': 10, 'меньше 3 месяцев': 0.1})\n",
    "data_19_1 = data_19_1.replace({'10 и более лет': 10, 'меньше 3 месяцев': 0.1})\n",
    "# Переводим значения опыта в цифры\n",
    "data_14_1['Experience'] = data_14_1['Experience'].astype(float)\n",
    "data_19_1['Experience'] = data_19_1['Experience'].astype(float)\n",
    "# Удаляем лишнее\n",
    "#del data_19_1, data_14_1\n",
    "gc.collect()"
   ]
  },
  {
   "cell_type": "markdown",
   "metadata": {},
   "source": [
    "Обращаем внимание на присутствие других специалистов и специальностей в опросе. \n",
    "Оставляем только програмистов, на основании субъективной оценки. (Прошу прошения, если не верно определил категорию) "
   ]
  },
  {
   "cell_type": "code",
   "execution_count": 7,
   "metadata": {
    "scrolled": true
   },
   "outputs": [
    {
     "name": "stdout",
     "output_type": "stream",
     "text": [
      "<class 'pandas.core.frame.DataFrame'>\n",
      "RangeIndex: 6514 entries, 0 to 6513\n",
      "Data columns (total 3 columns):\n",
      "Position      6514 non-null object\n",
      "Experience    6514 non-null float64\n",
      "Salary        6514 non-null int64\n",
      "dtypes: float64(1), int64(1), object(1)\n",
      "memory usage: 152.8+ KB\n",
      "<class 'pandas.core.frame.DataFrame'>\n",
      "RangeIndex: 11439 entries, 0 to 11438\n",
      "Data columns (total 3 columns):\n",
      "Position      11439 non-null object\n",
      "Experience    11439 non-null float64\n",
      "Salary        11439 non-null int64\n",
      "dtypes: float64(1), int64(1), object(1)\n",
      "memory usage: 268.2+ KB\n"
     ]
    },
    {
     "data": {
      "text/plain": [
       "(None, None)"
      ]
     },
     "execution_count": 7,
     "metadata": {},
     "output_type": "execute_result"
    }
   ],
   "source": [
    "# Проверям тип данных, полноту\n",
    "data_14_1.info(), data_19_1.info()"
   ]
  },
  {
   "cell_type": "code",
   "execution_count": 8,
   "metadata": {},
   "outputs": [],
   "source": [
    "# Список специальностей, которые не учитываем в анализе 14 год\n",
    "drop_list_14 = ['Team lead', 'Project manager',\n",
    "       'Technical Lead', 'Верстальщик',\n",
    "       'Support', 'Director of Engineering / Program Director',\n",
    "       'HR', 'Системный администратор',\n",
    "       'Бизнес-аналитик', \n",
    "       'Scrum Master', 'Гейм-дизайнер', 'Технический писатель',\n",
    "       'Sales manager', 'Product Manager',\n",
    "       'Senior Project Manager / Program Manager', 'Дизайнер',\n",
    "       'Researcher']\n",
    "\n",
    "# Список специальностей, которые не учитываем в анализе 19 год\n",
    "drop_list_19 = ['Project manager', 'Business analyst', 'Designer', 'Product Manager', 'Technical Lead', \n",
    "             'Support', 'HR', 'Marketing', 'Technical writer', 'Team lead', \n",
    "             'Senior Project Manager / Program Manager',\n",
    "            'Director of Engineering / Program Director', 'Copywriter', 'ERP / CRM', \n",
    "            'Sales manager', 'Game designer', 'Talent Researcher', 'Scrum Master', 'Security Specialist']"
   ]
  },
  {
   "cell_type": "code",
   "execution_count": 9,
   "metadata": {},
   "outputs": [],
   "source": [
    "# Меняем индекс по типу должности\n",
    "data_14_1 = data_14_1.set_index('Position')\n",
    "data_19_1 = data_19_1.set_index('Position')\n",
    "# Удаляем специальности по списку\n",
    "data_14_1.drop(drop_list_14, inplace=True)\n",
    "data_19_1.drop(drop_list_19, inplace=True)\n",
    "# Обновляем индекс\n",
    "data_14_1.reset_index(inplace=True)\n",
    "data_19_1.reset_index(inplace=True)"
   ]
  },
  {
   "cell_type": "code",
   "execution_count": 10,
   "metadata": {},
   "outputs": [
    {
     "data": {
      "text/html": [
       "<div>\n",
       "<style scoped>\n",
       "    .dataframe tbody tr th:only-of-type {\n",
       "        vertical-align: middle;\n",
       "    }\n",
       "\n",
       "    .dataframe tbody tr th {\n",
       "        vertical-align: top;\n",
       "    }\n",
       "\n",
       "    .dataframe thead th {\n",
       "        text-align: right;\n",
       "    }\n",
       "</style>\n",
       "<table border=\"1\" class=\"dataframe\">\n",
       "  <thead>\n",
       "    <tr style=\"text-align: right;\">\n",
       "      <th></th>\n",
       "      <th>Position</th>\n",
       "      <th>Experience</th>\n",
       "      <th>Salary</th>\n",
       "    </tr>\n",
       "  </thead>\n",
       "  <tbody>\n",
       "    <tr>\n",
       "      <th>0</th>\n",
       "      <td>Software Engineer</td>\n",
       "      <td>5.5</td>\n",
       "      <td>3200</td>\n",
       "    </tr>\n",
       "    <tr>\n",
       "      <th>1</th>\n",
       "      <td>Software Engineer</td>\n",
       "      <td>4.5</td>\n",
       "      <td>2235</td>\n",
       "    </tr>\n",
       "    <tr>\n",
       "      <th>2</th>\n",
       "      <td>Software Engineer</td>\n",
       "      <td>3.5</td>\n",
       "      <td>2200</td>\n",
       "    </tr>\n",
       "    <tr>\n",
       "      <th>3</th>\n",
       "      <td>Software Engineer</td>\n",
       "      <td>3.0</td>\n",
       "      <td>1000</td>\n",
       "    </tr>\n",
       "    <tr>\n",
       "      <th>4</th>\n",
       "      <td>Software Engineer</td>\n",
       "      <td>2.0</td>\n",
       "      <td>2400</td>\n",
       "    </tr>\n",
       "  </tbody>\n",
       "</table>\n",
       "</div>"
      ],
      "text/plain": [
       "            Position  Experience  Salary\n",
       "0  Software Engineer         5.5    3200\n",
       "1  Software Engineer         4.5    2235\n",
       "2  Software Engineer         3.5    2200\n",
       "3  Software Engineer         3.0    1000\n",
       "4  Software Engineer         2.0    2400"
      ]
     },
     "metadata": {},
     "output_type": "display_data"
    },
    {
     "data": {
      "text/html": [
       "<div>\n",
       "<style scoped>\n",
       "    .dataframe tbody tr th:only-of-type {\n",
       "        vertical-align: middle;\n",
       "    }\n",
       "\n",
       "    .dataframe tbody tr th {\n",
       "        vertical-align: top;\n",
       "    }\n",
       "\n",
       "    .dataframe thead th {\n",
       "        text-align: right;\n",
       "    }\n",
       "</style>\n",
       "<table border=\"1\" class=\"dataframe\">\n",
       "  <thead>\n",
       "    <tr style=\"text-align: right;\">\n",
       "      <th></th>\n",
       "      <th>Position</th>\n",
       "      <th>Experience</th>\n",
       "      <th>Salary</th>\n",
       "    </tr>\n",
       "  </thead>\n",
       "  <tbody>\n",
       "    <tr>\n",
       "      <th>0</th>\n",
       "      <td>Senior Software Engineer</td>\n",
       "      <td>7.0</td>\n",
       "      <td>3400</td>\n",
       "    </tr>\n",
       "    <tr>\n",
       "      <th>1</th>\n",
       "      <td>QA engineer</td>\n",
       "      <td>1.5</td>\n",
       "      <td>2800</td>\n",
       "    </tr>\n",
       "    <tr>\n",
       "      <th>2</th>\n",
       "      <td>Senior Software Engineer</td>\n",
       "      <td>10.0</td>\n",
       "      <td>2000</td>\n",
       "    </tr>\n",
       "    <tr>\n",
       "      <th>3</th>\n",
       "      <td>Senior Software Engineer</td>\n",
       "      <td>10.0</td>\n",
       "      <td>8000</td>\n",
       "    </tr>\n",
       "    <tr>\n",
       "      <th>4</th>\n",
       "      <td>Software Engineer</td>\n",
       "      <td>5.0</td>\n",
       "      <td>3200</td>\n",
       "    </tr>\n",
       "  </tbody>\n",
       "</table>\n",
       "</div>"
      ],
      "text/plain": [
       "                   Position  Experience  Salary\n",
       "0  Senior Software Engineer         7.0    3400\n",
       "1               QA engineer         1.5    2800\n",
       "2  Senior Software Engineer        10.0    2000\n",
       "3  Senior Software Engineer        10.0    8000\n",
       "4         Software Engineer         5.0    3200"
      ]
     },
     "metadata": {},
     "output_type": "display_data"
    },
    {
     "name": "stdout",
     "output_type": "stream",
     "text": [
      "Всего опрошеных програмистов: \n",
      "       4841 чел. в 14 году и 8421 в 19 году\n"
     ]
    }
   ],
   "source": [
    "# Строка здесь это отдельный результат опроса, колонки переменные.\n",
    "display(data_14_1.head(), data_19_1.head())\n",
    "print('Всего опрошеных програмистов: \\n \\\n",
    "      {} чел. в 14 году и {} в 19 году'.format(len(data_14_1), len(data_19_1)))"
   ]
  },
  {
   "cell_type": "code",
   "execution_count": 11,
   "metadata": {},
   "outputs": [
    {
     "data": {
      "text/html": [
       "<div>\n",
       "<style scoped>\n",
       "    .dataframe tbody tr th:only-of-type {\n",
       "        vertical-align: middle;\n",
       "    }\n",
       "\n",
       "    .dataframe tbody tr th {\n",
       "        vertical-align: top;\n",
       "    }\n",
       "\n",
       "    .dataframe thead th {\n",
       "        text-align: right;\n",
       "    }\n",
       "</style>\n",
       "<table border=\"1\" class=\"dataframe\">\n",
       "  <thead>\n",
       "    <tr style=\"text-align: right;\">\n",
       "      <th></th>\n",
       "      <th>Salary</th>\n",
       "    </tr>\n",
       "    <tr>\n",
       "      <th>Experience</th>\n",
       "      <th></th>\n",
       "    </tr>\n",
       "  </thead>\n",
       "  <tbody>\n",
       "    <tr>\n",
       "      <th>10.00</th>\n",
       "      <td>3518.407989</td>\n",
       "    </tr>\n",
       "    <tr>\n",
       "      <th>8.00</th>\n",
       "      <td>3323.829167</td>\n",
       "    </tr>\n",
       "    <tr>\n",
       "      <th>7.00</th>\n",
       "      <td>3289.386167</td>\n",
       "    </tr>\n",
       "    <tr>\n",
       "      <th>6.00</th>\n",
       "      <td>3057.543578</td>\n",
       "    </tr>\n",
       "    <tr>\n",
       "      <th>9.00</th>\n",
       "      <td>3051.000000</td>\n",
       "    </tr>\n",
       "    <tr>\n",
       "      <th>5.00</th>\n",
       "      <td>2773.166667</td>\n",
       "    </tr>\n",
       "    <tr>\n",
       "      <th>4.00</th>\n",
       "      <td>2479.441777</td>\n",
       "    </tr>\n",
       "    <tr>\n",
       "      <th>3.00</th>\n",
       "      <td>2006.226852</td>\n",
       "    </tr>\n",
       "    <tr>\n",
       "      <th>2.00</th>\n",
       "      <td>1477.726962</td>\n",
       "    </tr>\n",
       "    <tr>\n",
       "      <th>1.50</th>\n",
       "      <td>1087.183312</td>\n",
       "    </tr>\n",
       "    <tr>\n",
       "      <th>1.00</th>\n",
       "      <td>825.916972</td>\n",
       "    </tr>\n",
       "    <tr>\n",
       "      <th>0.50</th>\n",
       "      <td>620.922652</td>\n",
       "    </tr>\n",
       "    <tr>\n",
       "      <th>0.10</th>\n",
       "      <td>516.874552</td>\n",
       "    </tr>\n",
       "    <tr>\n",
       "      <th>0.25</th>\n",
       "      <td>513.675127</td>\n",
       "    </tr>\n",
       "  </tbody>\n",
       "</table>\n",
       "</div>"
      ],
      "text/plain": [
       "                 Salary\n",
       "Experience             \n",
       "10.00       3518.407989\n",
       "8.00        3323.829167\n",
       "7.00        3289.386167\n",
       "6.00        3057.543578\n",
       "9.00        3051.000000\n",
       "5.00        2773.166667\n",
       "4.00        2479.441777\n",
       "3.00        2006.226852\n",
       "2.00        1477.726962\n",
       "1.50        1087.183312\n",
       "1.00         825.916972\n",
       "0.50         620.922652\n",
       "0.10         516.874552\n",
       "0.25         513.675127"
      ]
     },
     "metadata": {},
     "output_type": "display_data"
    },
    {
     "data": {
      "text/html": [
       "<div>\n",
       "<style scoped>\n",
       "    .dataframe tbody tr th:only-of-type {\n",
       "        vertical-align: middle;\n",
       "    }\n",
       "\n",
       "    .dataframe tbody tr th {\n",
       "        vertical-align: top;\n",
       "    }\n",
       "\n",
       "    .dataframe thead th {\n",
       "        text-align: right;\n",
       "    }\n",
       "</style>\n",
       "<table border=\"1\" class=\"dataframe\">\n",
       "  <thead>\n",
       "    <tr style=\"text-align: right;\">\n",
       "      <th></th>\n",
       "      <th>Salary</th>\n",
       "    </tr>\n",
       "    <tr>\n",
       "      <th>Position</th>\n",
       "      <th></th>\n",
       "    </tr>\n",
       "  </thead>\n",
       "  <tbody>\n",
       "    <tr>\n",
       "      <th>System Architect</th>\n",
       "      <td>5439.160920</td>\n",
       "    </tr>\n",
       "    <tr>\n",
       "      <th>Senior Software Engineer</th>\n",
       "      <td>3698.838444</td>\n",
       "    </tr>\n",
       "    <tr>\n",
       "      <th>QA Tech Lead</th>\n",
       "      <td>3180.054264</td>\n",
       "    </tr>\n",
       "    <tr>\n",
       "      <th>Senior QA engineer</th>\n",
       "      <td>2671.744745</td>\n",
       "    </tr>\n",
       "    <tr>\n",
       "      <th>DevOps</th>\n",
       "      <td>2602.092527</td>\n",
       "    </tr>\n",
       "    <tr>\n",
       "      <th>DBA</th>\n",
       "      <td>2300.962963</td>\n",
       "    </tr>\n",
       "    <tr>\n",
       "      <th>Research Engineer</th>\n",
       "      <td>2179.583333</td>\n",
       "    </tr>\n",
       "    <tr>\n",
       "      <th>Data Scientist</th>\n",
       "      <td>2142.577236</td>\n",
       "    </tr>\n",
       "    <tr>\n",
       "      <th>Software Engineer</th>\n",
       "      <td>1984.152245</td>\n",
       "    </tr>\n",
       "    <tr>\n",
       "      <th>QA engineer</th>\n",
       "      <td>1447.676313</td>\n",
       "    </tr>\n",
       "    <tr>\n",
       "      <th>Data Analyst</th>\n",
       "      <td>1232.830189</td>\n",
       "    </tr>\n",
       "    <tr>\n",
       "      <th>Sysadmin</th>\n",
       "      <td>1083.120773</td>\n",
       "    </tr>\n",
       "    <tr>\n",
       "      <th>Junior Software Engineer</th>\n",
       "      <td>729.905149</td>\n",
       "    </tr>\n",
       "    <tr>\n",
       "      <th>HTML coder</th>\n",
       "      <td>705.216981</td>\n",
       "    </tr>\n",
       "    <tr>\n",
       "      <th>Junior QA engineer</th>\n",
       "      <td>575.272904</td>\n",
       "    </tr>\n",
       "  </tbody>\n",
       "</table>\n",
       "</div>"
      ],
      "text/plain": [
       "                               Salary\n",
       "Position                             \n",
       "System Architect          5439.160920\n",
       "Senior Software Engineer  3698.838444\n",
       "QA Tech Lead              3180.054264\n",
       "Senior QA engineer        2671.744745\n",
       "DevOps                    2602.092527\n",
       "DBA                       2300.962963\n",
       "Research Engineer         2179.583333\n",
       "Data Scientist            2142.577236\n",
       "Software Engineer         1984.152245\n",
       "QA engineer               1447.676313\n",
       "Data Analyst              1232.830189\n",
       "Sysadmin                  1083.120773\n",
       "Junior Software Engineer   729.905149\n",
       "HTML coder                 705.216981\n",
       "Junior QA engineer         575.272904"
      ]
     },
     "metadata": {},
     "output_type": "display_data"
    },
    {
     "data": {
      "text/plain": [
       "Software Engineer           2739\n",
       "Junior Software Engineer    1476\n",
       "Senior Software Engineer    1337\n",
       "QA engineer                  933\n",
       "Junior QA engineer           513\n",
       "Senior QA engineer           333\n",
       "DevOps                       281\n",
       "Sysadmin                     207\n",
       "QA Tech Lead                 129\n",
       "Data Scientist               123\n",
       "HTML coder                   106\n",
       "Data Analyst                 106\n",
       "System Architect              87\n",
       "DBA                           27\n",
       "Research Engineer             24\n",
       "Name: Position, dtype: int64"
      ]
     },
     "metadata": {},
     "output_type": "display_data"
    }
   ],
   "source": [
    "# Группируем, считаем 19 год, смотрим на данные \n",
    "display(pd.DataFrame(data_19_1.groupby(['Experience'])['Salary'].mean().sort_values(ascending=False)), \\\n",
    "        pd.DataFrame(data_19_1.groupby(['Position'])['Salary'].mean().sort_values(ascending=False)), \\\n",
    "        data_19_1.Position.value_counts())"
   ]
  },
  {
   "cell_type": "markdown",
   "metadata": {},
   "source": [
    "Обращаем внимание на тип позиций которые указаны Junior and Senior. Считаем для них средние значения стажа, среднеквадратические отклонения. Возможно это можно использовать для сегментации других специальностей где не указан уровень квалификации. "
   ]
  },
  {
   "cell_type": "markdown",
   "metadata": {},
   "source": [
    "Для валидации 19 года проверим процентные отношения кто указал свой уровень, к общему количеству опрошеных. Получаем 43%, что должно нас устроить. "
   ]
  },
  {
   "cell_type": "code",
   "execution_count": 13,
   "metadata": {},
   "outputs": [
    {
     "name": "stdout",
     "output_type": "stream",
     "text": [
      "43.45089656810355\n"
     ]
    }
   ],
   "source": [
    "print(((data_19_1.groupby('Position')['Experience'].count()['Junior Software Engineer']) + \\\n",
    "(data_19_1.groupby('Position')['Experience'].count()['Senior Software Engineer']) + \\\n",
    "(data_19_1.groupby('Position')['Experience'].count()['Junior QA engineer']) + \\\n",
    "(data_19_1.groupby('Position')['Experience'].count()['Senior QA engineer']) )/ len(data_19_1)*100)"
   ]
  },
  {
   "cell_type": "markdown",
   "metadata": {},
   "source": [
    "Делаем разбивку и считаем средние и отклонения"
   ]
  },
  {
   "cell_type": "code",
   "execution_count": 14,
   "metadata": {},
   "outputs": [
    {
     "data": {
      "text/html": [
       "<div>\n",
       "<style scoped>\n",
       "    .dataframe tbody tr th:only-of-type {\n",
       "        vertical-align: middle;\n",
       "    }\n",
       "\n",
       "    .dataframe tbody tr th {\n",
       "        vertical-align: top;\n",
       "    }\n",
       "\n",
       "    .dataframe thead th {\n",
       "        text-align: right;\n",
       "    }\n",
       "</style>\n",
       "<table border=\"1\" class=\"dataframe\">\n",
       "  <thead>\n",
       "    <tr style=\"text-align: right;\">\n",
       "      <th></th>\n",
       "      <th>Years_of_experince</th>\n",
       "    </tr>\n",
       "  </thead>\n",
       "  <tbody>\n",
       "    <tr>\n",
       "      <th>Среднее для SE Junior</th>\n",
       "      <td>1.040786</td>\n",
       "    </tr>\n",
       "    <tr>\n",
       "      <th>std для SE Junior</th>\n",
       "      <td>0.923035</td>\n",
       "    </tr>\n",
       "    <tr>\n",
       "      <th>Среднее для SE Senior</th>\n",
       "      <td>6.762004</td>\n",
       "    </tr>\n",
       "    <tr>\n",
       "      <th>std для SE Senior</th>\n",
       "      <td>2.408482</td>\n",
       "    </tr>\n",
       "    <tr>\n",
       "      <th>Среднее для QA Junior</th>\n",
       "      <td>0.827680</td>\n",
       "    </tr>\n",
       "    <tr>\n",
       "      <th>std для QA Junior</th>\n",
       "      <td>0.613013</td>\n",
       "    </tr>\n",
       "    <tr>\n",
       "      <th>Среднее для QA Senior</th>\n",
       "      <td>5.693994</td>\n",
       "    </tr>\n",
       "    <tr>\n",
       "      <th>std для QA Senior</th>\n",
       "      <td>2.130620</td>\n",
       "    </tr>\n",
       "  </tbody>\n",
       "</table>\n",
       "</div>"
      ],
      "text/plain": [
       "                       Years_of_experince\n",
       "Среднее для SE Junior            1.040786\n",
       "std для SE Junior                0.923035\n",
       "Среднее для SE Senior            6.762004\n",
       "std для SE Senior                2.408482\n",
       "Среднее для QA Junior            0.827680\n",
       "std для QA Junior                0.613013\n",
       "Среднее для QA Senior            5.693994\n",
       "std для QA Senior                2.130620"
      ]
     },
     "metadata": {},
     "output_type": "display_data"
    }
   ],
   "source": [
    "se_m_Junior = data_19_1.groupby('Position')['Experience'].mean()['Junior Software Engineer']\n",
    "se_std_Junior = data_19_1.groupby('Position')['Experience'].std(ddof=1)['Junior Software Engineer']\n",
    "\n",
    "se_m_Senior = data_19_1.groupby('Position')['Experience'].mean()['Senior Software Engineer']\n",
    "ex_std_Senior = data_19_1.groupby('Position')['Experience'].std(ddof=1)['Senior Software Engineer']\n",
    "\n",
    "qa_m_Junior = data_19_1.groupby('Position')['Experience'].mean()['Junior QA engineer']\n",
    "qa_std_Junior = data_19_1.groupby('Position')['Experience'].std(ddof=1)['Junior QA engineer']\n",
    "\n",
    "qa_m_Senior = data_19_1.groupby('Position')['Experience'].mean()['Senior QA engineer']\n",
    "qa_std_Senior = data_19_1.groupby('Position')['Experience'].std(ddof=1)['Senior QA engineer']\n",
    "\n",
    "data_frame = [se_m_Junior, se_std_Junior, se_m_Senior, ex_std_Senior, \\\n",
    "              qa_m_Junior, qa_std_Junior, qa_m_Senior, qa_std_Senior]\n",
    "\n",
    "df1 = pd.DataFrame(data_frame, index=['Среднее для SE Junior', 'std для SE Junior', \n",
    "                               'Среднее для SE Senior', 'std для SE Senior',\n",
    "                               'Среднее для QA Junior', 'std для QA Junior',\n",
    "                               'Среднее для QA Senior', 'std для QA Senior'], \\\n",
    "             columns=['Years_of_experince'])\n",
    "display(df1)"
   ]
  },
  {
   "cell_type": "markdown",
   "metadata": {},
   "source": [
    "Получается, что средний опыт работы  в 19 году (кто его указал) для SE Junior год, с достаточно широким отклонением в один год. Больше всего опыта у SE Senior c так же большим отклонением в 2,4 года. \n",
    "Если попытаться расчитать Middle и использовать средний стаж у тех кто его указал, для категоризации того кто его не указал, то мы можем не верно кластеризировать всю выборку. Особенно сильно будем ошибаться на других специальностях (не SE and QA). Данных слишком мало, что бы их на основании только указанных лет работы. "
   ]
  },
  {
   "cell_type": "code",
   "execution_count": 15,
   "metadata": {},
   "outputs": [
    {
     "name": "stderr",
     "output_type": "stream",
     "text": [
      "/home/volodymyr/Downloads/conda/lib/python3.6/site-packages/scipy/stats/stats.py:1713: FutureWarning: Using a non-tuple sequence for multidimensional indexing is deprecated; use `arr[tuple(seq)]` instead of `arr[seq]`. In the future this will be interpreted as an array index, `arr[np.array(seq)]`, which will result either in an error or a different result.\n",
      "  return np.add.reduce(sorted[indexer] * weights, axis=axis) / sumval\n"
     ]
    },
    {
     "data": {
      "text/plain": [
       "Text(0.5, 1.0, 'Распределение зарплат')"
      ]
     },
     "execution_count": 15,
     "metadata": {},
     "output_type": "execute_result"
    },
    {
     "data": {
      "image/png": "[encoded data removed]",
      "text/plain": [
       "<Figure size 432x288 with 1 Axes>"
      ]
     },
     "metadata": {},
     "output_type": "display_data"
    }
   ],
   "source": [
    "sns.distplot(data_19_1['Salary'], rug=True, norm_hist=True)\n",
    "plt.title('Распределение зарплат')"
   ]
  },
  {
   "cell_type": "markdown",
   "metadata": {},
   "source": [
    "Значительные outliers"
   ]
  },
  {
   "cell_type": "code",
   "execution_count": 16,
   "metadata": {
    "scrolled": true
   },
   "outputs": [
    {
     "data": {
      "text/plain": [
       "<matplotlib.axes._subplots.AxesSubplot at 0x7f2fd60a1358>"
      ]
     },
     "execution_count": 16,
     "metadata": {},
     "output_type": "execute_result"
    },
    {
     "data": {
      "image/png": "[encoded data removed]",
      "text/plain": [
       "<Figure size 432x288 with 1 Axes>"
      ]
     },
     "metadata": {},
     "output_type": "display_data"
    }
   ],
   "source": [
    "sns.boxplot(x='Salary', data=data_19_1, orient='v', notch=True)"
   ]
  },
  {
   "cell_type": "code",
   "execution_count": 17,
   "metadata": {
    "scrolled": true
   },
   "outputs": [
    {
     "name": "stderr",
     "output_type": "stream",
     "text": [
      "/home/volodymyr/Downloads/conda/lib/python3.6/site-packages/scipy/stats/stats.py:1713: FutureWarning: Using a non-tuple sequence for multidimensional indexing is deprecated; use `arr[tuple(seq)]` instead of `arr[seq]`. In the future this will be interpreted as an array index, `arr[np.array(seq)]`, which will result either in an error or a different result.\n",
      "  return np.add.reduce(sorted[indexer] * weights, axis=axis) / sumval\n"
     ]
    },
    {
     "data": {
      "text/plain": [
       "<matplotlib.axes._subplots.AxesSubplot at 0x7f2fd5dc1550>"
      ]
     },
     "execution_count": 17,
     "metadata": {},
     "output_type": "execute_result"
    },
    {
     "data": {
      "image/png": "[encoded data removed]",
      "text/plain": [
       "<Figure size 432x288 with 1 Axes>"
      ]
     },
     "metadata": {},
     "output_type": "display_data"
    }
   ],
   "source": [
    "df_new = data_19_1[(data_19_1['Salary'] > 400) & (data_19_1['Salary'] < 4000)]\n",
    "sns.distplot(df_new['Salary'], rug=True, norm_hist=True)"
   ]
  },
  {
   "cell_type": "code",
   "execution_count": 18,
   "metadata": {},
   "outputs": [
    {
     "name": "stderr",
     "output_type": "stream",
     "text": [
      "/home/volodymyr/Downloads/conda/lib/python3.6/site-packages/pandas/core/indexing.py:362: SettingWithCopyWarning: \n",
      "A value is trying to be set on a copy of a slice from a DataFrame.\n",
      "Try using .loc[row_indexer,col_indexer] = value instead\n",
      "\n",
      "See the caveats in the documentation: http://pandas.pydata.org/pandas-docs/stable/indexing.html#indexing-view-versus-copy\n",
      "  self.obj[key] = _infer_fill_value(value)\n",
      "/home/volodymyr/Downloads/conda/lib/python3.6/site-packages/pandas/core/indexing.py:543: SettingWithCopyWarning: \n",
      "A value is trying to be set on a copy of a slice from a DataFrame.\n",
      "Try using .loc[row_indexer,col_indexer] = value instead\n",
      "\n",
      "See the caveats in the documentation: http://pandas.pydata.org/pandas-docs/stable/indexing.html#indexing-view-versus-copy\n",
      "  self.obj[item] = s\n"
     ]
    }
   ],
   "source": [
    "df_new.reset_index()\n",
    "df_new.loc[df_new.Salary <= 1200, 'level'] = 'Junior'\n",
    "df_new.loc[(df_new.Salary > 1200) & (df_new.Salary <= 2400), 'level'] = 'Middle'\n",
    "df_new.loc[df_new.Salary > 2401, 'level'] = 'Senior'"
   ]
  },
  {
   "cell_type": "code",
   "execution_count": 19,
   "metadata": {},
   "outputs": [
    {
     "data": {
      "text/plain": [
       "<matplotlib.axes._subplots.AxesSubplot at 0x7f2fd595bc88>"
      ]
     },
     "execution_count": 19,
     "metadata": {},
     "output_type": "execute_result"
    },
    {
     "data": {
      "image/png": "[encoded data removed]",
      "text/plain": [
       "<Figure size 842.4x595.44 with 1 Axes>"
      ]
     },
     "metadata": {},
     "output_type": "display_data"
    }
   ],
   "source": [
    "sns.set(style=\"whitegrid\")\n",
    "fig, ax = plt.subplots()\n",
    "fig.set_size_inches(11.7, 8.27)\n",
    "plt.title('Распределение запплат по уровню квалификации за 19 год')\n",
    "sns.barplot(x='level', y='Salary', hue='Experience', hue_order=[1,3,5,7,10], palette='Blues',  \\\n",
    "            data=df_new, ci='sd')"
   ]
  },
  {
   "cell_type": "markdown",
   "metadata": {},
   "source": [
    "дополнительно можно расчитать плотность распределения для каждой группы. Для Senior функция ближе к x2, для Junior она больше выглядит линейно."
   ]
  },
  {
   "cell_type": "code",
   "execution_count": 20,
   "metadata": {},
   "outputs": [
    {
     "data": {
      "text/plain": [
       "Text(0, 0.5, 'Плотность распределения')"
      ]
     },
     "execution_count": 20,
     "metadata": {},
     "output_type": "execute_result"
    },
    {
     "data": {
      "image/png": "[encoded data removed]",
      "text/plain": [
       "<Figure size 432x288 with 1 Axes>"
      ]
     },
     "metadata": {},
     "output_type": "display_data"
    }
   ],
   "source": [
    "def edf(data):\n",
    "    x = np.sort(data)\n",
    "    y = np.arange(1, len(data) + 1)\n",
    "    return x, y\n",
    "\n",
    "x1, y1 = edf(df_new[df_new['level'] == 'Junior']['Salary'].values)\n",
    "x2, y2 = edf(df_new[df_new['level'] == 'Middle']['Salary'].values)\n",
    "x3, y3 = edf(df_new[df_new['level'] == 'Senior']['Salary'].values)\n",
    "\n",
    "plt.plot(x1, y1, linestyle='none', marker='.')\n",
    "plt.plot(x2, y2, linestyle='none', marker='.')\n",
    "plt.plot(x3, y3, linestyle='none', marker='.')\n",
    "plt.legend(['junior', 'middle', 'Senior'])\n",
    "\n",
    "plt.title('Функция распределения')\n",
    "plt.xlabel('Зп')\n",
    "plt.ylabel('Плотность распределения')"
   ]
  },
  {
   "cell_type": "markdown",
   "metadata": {},
   "source": [
    "Итак формируем нулевую гипотезу (ту самую которую нужно опровергнуть)\n",
    "Тут много вариантов (например): \n",
    "    Зависимость зарплаты от стажа в 14 году такие же как в 19м.\n",
    "    Зарплаты junior не изменились с 14 года.\n",
    "\n",
    "Как стало понятно - указанный стаж плохой индикатор, а расчет по отдельным категориям может запутать. Поэтому берем простой и более предметный вариант: **Средний уровень зп в 14 году, такой же как в 19 году**\n",
    "\n",
    "Верность гипотезы, несмотря на всю ее очевидность, мы сможем точно проверить увидив доверительные интервалы и расчитав P-value."
   ]
  },
  {
   "cell_type": "markdown",
   "metadata": {},
   "source": [
    "Предварительные расчеты среднего уровня и доверительных интервалов"
   ]
  },
  {
   "cell_type": "code",
   "execution_count": 21,
   "metadata": {},
   "outputs": [
    {
     "name": "stdout",
     "output_type": "stream",
     "text": [
      "Средняя зп в 14 году 1797$, где доверительный интервал 95% [300.0 4000.0] \n",
      "\n",
      "Средняя зп в 19 году 1949$, где доверительный интервал 95% [300.0 5000.0] \n",
      "\n",
      "Разница в средних зарплатах в 14 и 19 году: 152$\n",
      "\n"
     ]
    }
   ],
   "source": [
    "# Считаем среднии зп по всей выборке (14 и 19 года), рассчитываем доверительный интервал 95 %\n",
    "\n",
    "mean_salary_14 = np.mean(data_14_1['Salary'])\n",
    "conf_salary_14 = np.percentile(data_14_1['Salary'], [2.5, 97.5])\n",
    "\n",
    "mean_salary_19 = np.mean(data_19_1['Salary'])\n",
    "conf_salary_19 = np.percentile(data_19_1['Salary'], [2.5, 97.5])\n",
    "\n",
    "diff_mean_salary = mean_salary_19 - mean_salary_14\n",
    "\n",
    "print(\n",
    "\"\"\"Средняя зп в 14 году {}$, где доверительный интервал 95% [{} {}] \\n\n",
    "Средняя зп в 19 году {}$, где доверительный интервал 95% [{} {}] \\n\n",
    "Разница в средних зарплатах в 14 и 19 году: {}$\n",
    "\"\"\".format(round(mean_salary_14), *conf_salary_14, round(mean_salary_19), *conf_salary_19, \\\n",
    "           round(diff_mean_salary)))"
   ]
  },
  {
   "cell_type": "markdown",
   "metadata": {},
   "source": [
    "Уровень вырос примерно на 8.5% сдвинув вернюю границу интервала на 1к. Приятно радует! Хотя могло быть больше ) \n",
    "\n",
    "Логично выбрать именно средние значения в качестве нашей метрики. Возможны и другие варианты, например медиана, что часто делают в случае значительных outliers. Однако средняя проста в понимании и тоже неплохо даст необходимое представление "
   ]
  },
  {
   "cell_type": "markdown",
   "metadata": {},
   "source": [
    "Пишем bootstrapping функцию."
   ]
  },
  {
   "cell_type": "code",
   "execution_count": 22,
   "metadata": {},
   "outputs": [],
   "source": [
    "# Функция для bootstraping\n",
    "def bootstrap(data, func):\n",
    "    boots = np.random.choice(data, len(data))\n",
    "    return func(boots)\n",
    "\n",
    "def bootstrapping(data, func=np.mean, size=1):\n",
    "    reps = np.empty(size)\n",
    "    for i in range(size):\n",
    "        reps[i] = bootstrap(data, func)\n",
    "    return reps"
   ]
  },
  {
   "cell_type": "code",
   "execution_count": 23,
   "metadata": {},
   "outputs": [
    {
     "name": "stdout",
     "output_type": "stream",
     "text": [
      "p-value = 0.0\n"
     ]
    }
   ],
   "source": [
    "# Обьеденяем 14 и 19 года\n",
    "data = np.concatenate((data_14_1['Salary'].values, data_19_1['Salary'].values))\n",
    "\n",
    "# Считаем среднее значение за 2 года \n",
    "data_mean = np.mean(data)\n",
    "\n",
    "# Создаем изменные массивы данных за 14 и 19 года\n",
    "data_14_shifted = data_14_1['Salary'].values - np.mean(data_14_1['Salary'].values) + data_mean\n",
    "data_19_shifted = data_19_1['Salary'].values - np.mean(data_19_1['Salary'].values) + data_mean\n",
    "\n",
    "# Генерируем 10000 копий массивов\n",
    "data_14_bootsted = bootstrapping(data_14_shifted, np.mean, size=10000)\n",
    "data_19_bootsted = bootstrapping(data_19_shifted, np.mean, size=10000)\n",
    "\n",
    "# Считаем разницу в средних в сгенерированных массивах\n",
    "mean_diff = data_19_bootsted - data_14_bootsted\n",
    "\n",
    "# Рассчитываем P value\n",
    "p_value = sum(mean_diff >= diff_mean_salary) / len(mean_diff)\n",
    "\n",
    "print('p-value = {}'.format(p_value))"
   ]
  },
  {
   "cell_type": "markdown",
   "metadata": {},
   "source": [
    "Значения p-value до 0,05 считаются незначительными, а в нашем случае оно равно = 0. Что означает, нулевая гипотеза опровергнута - средние значения зарплат в 14 году и 19 году разные и это не случайный результат или значительное количество outliers. \n",
    "\n",
    "Сгенерированные нами 10 тыс подобных массивов, в среднем не смогли получить в сумме большей таких отклонениий, чем непосредственно сами данные. "
   ]
  },
  {
   "cell_type": "markdown",
   "metadata": {},
   "source": [
    "Хотя мы потратили много внимания на первые два этапа, мы сформулировали правильную гипотезу и выбрали верную метрику. В более сложных задачах, с большим количеством переменных, без предворительных этапов, аналитика может привести к неверным решениям. Не стоит их пропускать."
   ]
  },
  {
   "cell_type": "markdown",
   "metadata": {},
   "source": [
    "В результате нашего исследования уровня зарплат мы пришли к следующим выводам:\n",
    "    1. Исходя из данных опроса, стаж не совсем хороших критерий для определения уровня зарплат и квалификации.\n",
    "    2. Разделение на уровень квалификации точнее всего будет проводиться на основании уровня зарплат.\n",
    "    3. Зарплаты програмистов с 14 года по 19 выросли. В среднем на 8.5%."
   ]
  },
  {
   "cell_type": "markdown",
   "metadata": {},
   "source": [
    "*** Спасибо за Ваше внимание ***\n",
    "\n",
    "Буду рад коментариям и критике"
   ]
  }
 ],
 "metadata": {
  "kernelspec": {
   "display_name": "Python 3",
   "language": "python",
   "name": "python3"
  },
  "language_info": {
   "codemirror_mode": {
    "name": "ipython",
    "version": 3
   },
   "file_extension": ".py",
   "mimetype": "text/x-python",
   "name": "python",
   "nbconvert_exporter": "python",
   "pygments_lexer": "ipython3",
   "version": "3.6.5"
  }
 },
 "nbformat": 4,
 "nbformat_minor": 2
}
